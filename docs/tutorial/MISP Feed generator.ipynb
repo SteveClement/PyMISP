{
 "cells": [
  {
   "cell_type": "markdown",
   "metadata": {},
   "source": [
    "# MISP Feed generator"
   ]
  },
  {
   "cell_type": "markdown",
   "metadata": {},
   "source": [
    "## Purpose\n",
    "Allow to generate a MISP feed in real time, where each items are added on daily generated events or specfied one."
   ]
  },
  {
   "cell_type": "markdown",
   "metadata": {},
   "source": [
    "## Files\n",
    "- ``generator.py`` exposes a class allowing to generate a MISP feed in real time, where each items can be added on daily generated events.\n",
    "- ``fromredis.py`` uses ``generator.py`` to generate a MISP feed based on data stored in redis.\n",
    "- ``server.py`` is a simple script using Flask_autoindex to serve data to MISP. \n",
    "- ``MISPItemToRedis.py`` permits to push (in redis) items to be added in MISP by the fromredis.py script.\n"
   ]
  },
  {
   "cell_type": "markdown",
   "metadata": {},
   "source": [
    "## Installation\n",
    "\n",
    "#### pre-requisites\n",
    "\n",
    "This assumes that you have the command `virtualenv` and `python3` to create Python3 virtual environments.\n",
    "\n",
    "####  Feed generator\n",
    "````\n",
    "git clone https://github.com/CIRCL/PyMISP\n",
    "cd PyMISP/examples/feed-generator-from-redis\n",
    "bash install.sh # install dependencies\n",
    "cp settings.default.py settings.py\n",
    "vi settings.py  # adjust your settings\n",
    "```\n",
    "\n",
    "#### Activate the virtalenv\n",
    "```\n",
    ". ./serv-env/bin/activate\n",
    "```\n",
    "#### Start the feed generator\n",
    "```\n",
    "python3 fromredis.py\n",
    "```\n",
    "\n",
    "### Serving file to MISP\n",
    "```\n",
    "python3 server.py\n",
    "```"
   ]
  },
  {
   "cell_type": "markdown",
   "metadata": {},
   "source": [
    "## Library usage"
   ]
  },
  {
   "cell_type": "markdown",
   "metadata": {},
   "source": [
    "#### Generate the feed manually\n",
    "The feed generator uses the configuration provided in the file ``settings.py``.\n",
    "It will create daily events in which attributes and objects will be added dynamically."
   ]
  },
  {
   "cell_type": "code",
   "execution_count": 1,
   "metadata": {
    "scrolled": true
   },
   "outputs": [],
   "source": [
    "# default import\n",
    "from feedgenerator.MISPItemToRedis import MISPItemToRedis\n",
    "from feedgenerator.generator import FeedGenerator"
   ]
  },
  {
   "cell_type": "code",
   "execution_count": 2,
   "metadata": {},
   "outputs": [],
   "source": [
    "# Create the FeedGenerator object\n",
    "generator = FeedGenerator()"
   ]
  },
  {
   "cell_type": "code",
   "execution_count": 3,
   "metadata": {},
   "outputs": [
    {
     "name": "stdout",
     "output_type": "stream",
     "text": [
      "Writting event on disk                                                  \n",
      "Writting event on disk                                                  \n",
      "Manifest saved\n",
      "Writting event on disk                                                  \n",
      "Hash saved                              \n"
     ]
    },
    {
     "data": {
      "text/plain": [
       "True"
      ]
     },
     "execution_count": 3,
     "metadata": {},
     "output_type": "execute_result"
    }
   ],
   "source": [
    "# Add an attribute to the daily event\n",
    "attr_type = \"ip-src\"\n",
    "attr_value = \"8.8.8.8\"\n",
    "additional_data = {}\n",
    "generator.add_attribute_to_event(attr_type, attr_value, **additional_data)"
   ]
  },
  {
   "cell_type": "code",
   "execution_count": 4,
   "metadata": {},
   "outputs": [
    {
     "name": "stdout",
     "output_type": "stream",
     "text": [
      "Writting event on disk                                                  \n",
      "Hash saved                              \n"
     ]
    },
    {
     "data": {
      "text/plain": [
       "True"
      ]
     },
     "execution_count": 4,
     "metadata": {},
     "output_type": "execute_result"
    }
   ],
   "source": [
    "# Add a cowrie object to the daily event\n",
    "obj_name = \"cowrie\"\n",
    "obj_data = { \n",
    "    \"session\": \"session_id\", \n",
    "    \"username\": \"admin\", \n",
    "    \"password\": \"admin\", \n",
    "    \"protocol\": \"telnet\"\n",
    "}\n",
    "generator.add_object_to_event(obj_name, **obj_data)"
   ]
  },
  {
   "cell_type": "code",
   "execution_count": 5,
   "metadata": {},
   "outputs": [
    {
     "name": "stdout",
     "output_type": "stream",
     "text": [
      "Writting event on disk                                                  \n"
     ]
    }
   ],
   "source": [
    "# Immediatly write the event to the disk (Bypassing the default flushing behavior)\n",
    "generator.flush_event()"
   ]
  },
  {
   "cell_type": "markdown",
   "metadata": {},
   "source": [
    "## Redis as buffer: Generate a MISP feed based on data stored in redis"
   ]
  },
  {
   "cell_type": "markdown",
   "metadata": {},
   "source": [
    "### Architecture\n",
    "<img src=\"./pics/feed-generetor-redis-arch.png\" width=\"71%\">"
   ]
  },
  {
   "cell_type": "markdown",
   "metadata": {},
   "source": [
    "### Adding items to Redis"
   ]
  },
  {
   "cell_type": "code",
   "execution_count": 6,
   "metadata": {},
   "outputs": [],
   "source": [
    "# create helper object\n",
    "helper = MISPItemToRedis(\"redis_list_keyname\")"
   ]
  },
  {
   "cell_type": "code",
   "execution_count": 7,
   "metadata": {},
   "outputs": [],
   "source": [
    "# push an attribute to redis\n",
    "helper.push_attribute(\"ip-src\", \"8.8.8.8\", category=\"Network activity\")"
   ]
  },
  {
   "cell_type": "code",
   "execution_count": 10,
   "metadata": {},
   "outputs": [],
   "source": [
    "# push an object to redis\n",
    "helper.push_object({ \n",
    "    \"name\": \"cowrie\", \n",
    "    \"session\": \"session_id\", \n",
    "    \"username\": \"admin2\", \n",
    "    \"password\": \"admin2\", \n",
    "    \"protocol\": \"telnet\" \n",
    "})"
   ]
  },
  {
   "cell_type": "markdown",
   "metadata": {},
   "source": [
    "### Consume stored data in redis\n",
    "Configuration provided in the file settings.py\n",
    "```\n",
    ">>> python3 fromredis.py\n",
    "```\n",
    "or,"
   ]
  },
  {
   "cell_type": "code",
   "execution_count": null,
   "metadata": {},
   "outputs": [
    {
     "name": "stdout",
     "output_type": "stream",
     "text": [
      "sleeping [|||||||||||        ]\tLast action: [Added object] @ 2018-03-28 12:47:14.153741\r"
     ]
    }
   ],
   "source": [
    "# Configuration provided in the file settings.py\n",
    "from feedgenerator.fromredis import RedisToMISPFeed\n",
    "\n",
    "redisToMISP = RedisToMISPFeed()\n",
    "redisToMISP.consume()"
   ]
  },
  {
   "cell_type": "markdown",
   "metadata": {},
   "source": [
    "### Serve data to MISP\n",
    "\n",
    "Just run the server:\n",
    "```\n",
    ">>> python3 server.py\n",
    "```"
   ]
  }
 ],
 "metadata": {
  "kernelspec": {
   "display_name": "Python 3",
   "language": "python",
   "name": "python3"
  },
  "language_info": {
   "codemirror_mode": {
    "name": "ipython",
    "version": 3
   },
   "file_extension": ".py",
   "mimetype": "text/x-python",
   "name": "python",
   "nbconvert_exporter": "python",
   "pygments_lexer": "ipython3",
   "version": "3.6.7rc1"
  }
 },
 "nbformat": 4,
 "nbformat_minor": 2
}
